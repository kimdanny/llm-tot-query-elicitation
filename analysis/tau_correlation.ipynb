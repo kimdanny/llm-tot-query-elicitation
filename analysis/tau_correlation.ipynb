{
 "cells": [
  {
   "cell_type": "code",
   "execution_count": 1,
   "metadata": {},
   "outputs": [],
   "source": [
    "import pandas as pd\n",
    "from scipy.stats import kendalltau\n",
    "\n",
    "file_path = '/YOUR/EXPERIMENT/FILE.xlsx'"
   ]
  },
  {
   "cell_type": "code",
   "execution_count": 20,
   "metadata": {},
   "outputs": [],
   "source": [
    "df = pd.read_excel(file_path, sheet_name='YOURSHEET')"
   ]
  },
  {
   "cell_type": "code",
   "execution_count": 22,
   "metadata": {},
   "outputs": [],
   "source": [
    "ms_tot_rank = df['MS-ToT Ranking Value'].tolist()\n",
    "# llm_no_paragraph_rank = df['LLM-no-paragraph Ranking Value'].tolist()\n",
    "llm_with_paragraph_rank = df['LLM-with-paragraph Ranking Value'].tolist()"
   ]
  },
  {
   "cell_type": "code",
   "execution_count": null,
   "metadata": {},
   "outputs": [],
   "source": [
    "# tau_mstot_llm_no_para, p_value_mstot_llm_no_para = kendalltau(ms_tot_rank, llm_no_paragraph_rank)\n",
    "tau_mstot_llm_w_para, p_value_mstot_llm_w_para = kendalltau(ms_tot_rank, llm_with_paragraph_rank)\n",
    "\n",
    "# print(f\"Kendall's tau between MS-ToT and LLM-no-paragraph: {tau_mstot_llm_no_para}, P-value: {p_value_mstot_llm_no_para}\")\n",
    "print(f\"Kendall's tau between MS-ToT and LLM-with-paragraph: {tau_mstot_llm_w_para}, P-value: {p_value_mstot_llm_w_para}\")"
   ]
  }
 ],
 "metadata": {
  "kernelspec": {
   "display_name": "trec-tot",
   "language": "python",
   "name": "python3"
  },
  "language_info": {
   "codemirror_mode": {
    "name": "ipython",
    "version": 3
   },
   "file_extension": ".py",
   "mimetype": "text/x-python",
   "name": "python",
   "nbconvert_exporter": "python",
   "pygments_lexer": "ipython3",
   "version": "3.8.19"
  }
 },
 "nbformat": 4,
 "nbformat_minor": 2
}
